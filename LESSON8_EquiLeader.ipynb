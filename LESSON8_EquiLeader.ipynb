{
 "cells": [
  {
   "cell_type": "markdown",
   "metadata": {},
   "source": [
    "A non-empty array A consisting of N integers is given.\n",
    "\n",
    "The leader of this array is the value that occurs in more than half of the elements of A.\n",
    "\n",
    "An equi leader is an index S such that 0 ≤ S < N − 1 and two sequences A[0], A[1], ..., A[S] and A[S + 1], A[S + 2], ..., A[N − 1] have leaders of the same value.\n",
    "\n",
    "For example, given array A such that:\n",
    "\n",
    "    A[0] = 4\n",
    "    A[1] = 3\n",
    "    A[2] = 4\n",
    "    A[3] = 4\n",
    "    A[4] = 4\n",
    "    A[5] = 2\n",
    "we can find two equi leaders:\n",
    "\n",
    "0, because sequences: (4) and (3, 4, 4, 4, 2) have the same leader, whose value is 4.\n",
    "2, because sequences: (4, 3, 4) and (4, 4, 2) have the same leader, whose value is 4.\n",
    "The goal is to count the number of equi leaders.\n",
    "\n",
    "Write a function:\n",
    "\n",
    "class Solution { public int solution(int[] A); }\n",
    "\n",
    "that, given a non-empty array A consisting of N integers, returns the number of equi leaders.\n",
    "\n",
    "For example, given:\n",
    "\n",
    "    A[0] = 4\n",
    "    A[1] = 3\n",
    "    A[2] = 4\n",
    "    A[3] = 4\n",
    "    A[4] = 4\n",
    "    A[5] = 2\n",
    "the function should return 2, as explained above.\n",
    "\n",
    "Write an efficient algorithm for the following assumptions:\n",
    "\n",
    "N is an integer within the range [1..100,000];\n",
    "each element of array A is an integer within the range [−1,000,000,000..1,000,000,000].\n",
    "Copyright 2009–2021 by Codility Limited. All Rights Reserved. Unauthorized copying, publication or disclosure prohibited."
   ]
  },
  {
   "cell_type": "code",
   "execution_count": 1,
   "metadata": {},
   "outputs": [],
   "source": [
    "def solution(A):\n",
    "    A_len = len(A)\n",
    "    candidate = -1\n",
    "    candidate_count = 0\n",
    "    candidate_index = -1\n",
    "    # Find out a leader candidate\n",
    "    for index in range(A_len):\n",
    "        if candidate_count == 0:\n",
    "            candidate = A[index]\n",
    "            candidate_index = index\n",
    "            candidate_count += 1\n",
    "        else:\n",
    "            if A[index] == candidate:\n",
    "                candidate_count += 1\n",
    "            else:\n",
    "                candidate_count -= 1\n",
    "    # Make sure the candidate is the leader\n",
    "    leader_count = len([number for number in A if number == candidate])\n",
    "    if leader_count <= A_len//2:\n",
    "        # The candidate is not the leader\n",
    "        return 0\n",
    "    else:\n",
    "        leader = candidate\n",
    "    equi_leaders = 0\n",
    "    leader_count_so_far = 0\n",
    "    for index in range(A_len):\n",
    "        if A[index] == leader:\n",
    "            leader_count_so_far += 1\n",
    "        if leader_count_so_far > (index+1)//2 and leader_count-leader_count_so_far > (A_len-index-1)//2:\n",
    "            # Both the head and tail have leaders of the same value\n",
    "            # as \"leader\"\n",
    "            equi_leaders += 1\n",
    "    return equi_leaders"
   ]
  },
  {
   "cell_type": "code",
   "execution_count": 2,
   "metadata": {},
   "outputs": [
    {
     "name": "stdout",
     "output_type": "stream",
     "text": [
      "2\n"
     ]
    }
   ],
   "source": [
    "A = [4, 3, 4, 4, 4, 2]\n",
    "print(solution(A))"
   ]
  }
 ],
 "metadata": {
  "kernelspec": {
   "display_name": "Python 3",
   "language": "python",
   "name": "python3"
  },
  "language_info": {
   "codemirror_mode": {
    "name": "ipython",
    "version": 3
   },
   "file_extension": ".py",
   "mimetype": "text/x-python",
   "name": "python",
   "nbconvert_exporter": "python",
   "pygments_lexer": "ipython3",
   "version": "3.7.4"
  }
 },
 "nbformat": 4,
 "nbformat_minor": 4
}
