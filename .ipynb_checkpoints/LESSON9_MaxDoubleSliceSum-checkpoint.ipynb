{
 "cells": [
  {
   "cell_type": "markdown",
   "metadata": {},
   "source": [
    "A non-empty array A consisting of N integers is given.\n",
    "\n",
    "A triplet (X, Y, Z), such that 0 ≤ X < Y < Z < N, is called a double slice.\n",
    "\n",
    "The sum of double slice (X, Y, Z) is the total of A[X + 1] + A[X + 2] + ... + A[Y − 1] + A[Y + 1] + A[Y + 2] + ... + A[Z − 1].\n",
    "\n",
    "For example, array A such that:\n",
    "\n",
    "    A[0] = 3\n",
    "    A[1] = 2\n",
    "    A[2] = 6\n",
    "    A[3] = -1\n",
    "    A[4] = 4\n",
    "    A[5] = 5\n",
    "    A[6] = -1\n",
    "    A[7] = 2\n",
    "contains the following example double slices:\n",
    "\n",
    "double slice (0, 3, 6), sum is 2 + 6 + 4 + 5 = 17,\n",
    "double slice (0, 3, 7), sum is 2 + 6 + 4 + 5 − 1 = 16,\n",
    "double slice (3, 4, 5), sum is 0.\n",
    "The goal is to find the maximal sum of any double slice.\n",
    "\n",
    "Write a function:\n",
    "\n",
    "class Solution { public int solution(int[] A); }\n",
    "\n",
    "that, given a non-empty array A consisting of N integers, returns the maximal sum of any double slice.\n",
    "\n",
    "For example, given:\n",
    "\n",
    "    A[0] = 3\n",
    "    A[1] = 2\n",
    "    A[2] = 6\n",
    "    A[3] = -1\n",
    "    A[4] = 4\n",
    "    A[5] = 5\n",
    "    A[6] = -1\n",
    "    A[7] = 2\n",
    "the function should return 17, because no double slice of array A has a sum of greater than 17.\n",
    "\n",
    "Write an efficient algorithm for the following assumptions:\n",
    "\n",
    "N is an integer within the range [3..100,000];\n",
    "each element of array A is an integer within the range [−10,000..10,000].\n",
    "Copyright 2009–2021 by Codility Limited. All Rights Reserved. Unauthorized copying, publication or disclosure prohibited."
   ]
  },
  {
   "cell_type": "code",
   "execution_count": null,
   "metadata": {},
   "outputs": [],
   "source": [
    "def solution(A):\n",
    "    max_slice = []\n",
    "    for i in range(0, len(A)):\n",
    "        for j in range(i+1,len(A)):\n",
    "            for k in range (j+1,len(A)):\n",
    "                max_slice.append(sum(A[i+1:j])+sum(A[j+1:k]))\n",
    "    return max(max_slice)"
   ]
  },
  {
   "cell_type": "markdown",
   "metadata": {},
   "source": [
    "#### 三層迴圈，效能太差"
   ]
  },
  {
   "cell_type": "code",
   "execution_count": 2,
   "metadata": {},
   "outputs": [],
   "source": [
    "def solution(A):\n",
    "    l_max_slice_sum = [0] * len(A)\n",
    "    r_max_slice_sum = [0] * len(A)\n",
    "\n",
    "    for i in range(1, len(A)-2): # A[X + 1] + A[X + 2] + ... + A[Y − 1]\n",
    "        # Let's assume that Y is equal to i+1.\n",
    "        # If l_max_slice_sum[i-1] + A[i] is negative, we assign X to i.\n",
    "        # It means that the slice sum is 0 because X and Y are consecutive indices.\n",
    "        l_max_slice_sum[i] = max(l_max_slice_sum[i-1] + A[i], 0)\n",
    "\n",
    "    for i in range(len(A)-2, 1, -1): # A[Y + 1] + A[Y + 2] + ... + A[Z − 1]\n",
    "        # We suppose that Y is equal to i-1.\n",
    "        # As aforementioned, Z will be assigned to i if r_max_slice_sum[i+1] + A[i]\n",
    "        # is negative, and it returns 0 because Y and Z becomes consecutive indices.\n",
    "        r_max_slice_sum[i] = max(r_max_slice_sum[i+1] + A[i], 0)\n",
    "\n",
    "    max_slice_sum = l_max_slice_sum[0] + r_max_slice_sum[2]\n",
    "    for i in range(1, len(A)-1):\n",
    "        # Let's say that i is the index of Y.\n",
    "        # l_max_slice_sum[i-1] is the max sum of the left slice, and\n",
    "        # r_max_slice_sum[i+1] is the max sum of the right slice.\n",
    "        max_slice_sum = max(max_slice_sum, l_max_slice_sum[i-1]+r_max_slice_sum[i+1])\n",
    "        \n",
    "    return max_slice_sum"
   ]
  },
  {
   "cell_type": "code",
   "execution_count": 3,
   "metadata": {},
   "outputs": [
    {
     "name": "stdout",
     "output_type": "stream",
     "text": [
      "17\n"
     ]
    }
   ],
   "source": [
    "A = [3, 2, 6, -1, 4, 5, -1, 2]\n",
    "print(solution(A))"
   ]
  },
  {
   "cell_type": "code",
   "execution_count": null,
   "metadata": {},
   "outputs": [],
   "source": []
  }
 ],
 "metadata": {
  "kernelspec": {
   "display_name": "Python 3",
   "language": "python",
   "name": "python3"
  },
  "language_info": {
   "codemirror_mode": {
    "name": "ipython",
    "version": 3
   },
   "file_extension": ".py",
   "mimetype": "text/x-python",
   "name": "python",
   "nbconvert_exporter": "python",
   "pygments_lexer": "ipython3",
   "version": "3.7.4"
  }
 },
 "nbformat": 4,
 "nbformat_minor": 4
}
