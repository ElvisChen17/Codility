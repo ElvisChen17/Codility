{
 "cells": [
  {
   "cell_type": "markdown",
   "metadata": {},
   "source": [
    "A string S consisting of N characters is called properly nested if:\n",
    "\n",
    "S is empty;\n",
    "S has the form \"(U)\" where U is a properly nested string;\n",
    "S has the form \"VW\" where V and W are properly nested strings.\n",
    "For example, string \"(()(())())\" is properly nested but string \"())\" isn't.\n",
    "\n",
    "Write a function:\n",
    "\n",
    "class Solution { public int solution(String S); }\n",
    "\n",
    "that, given a string S consisting of N characters, returns 1 if string S is properly nested and 0 otherwise.\n",
    "\n",
    "For example, given S = \"(()(())())\", the function should return 1 and given S = \"())\", the function should return 0, as explained above.\n",
    "\n",
    "Write an efficient algorithm for the following assumptions:\n",
    "\n",
    "N is an integer within the range [0..1,000,000];\n",
    "string S consists only of the characters \"(\" and/or \")\".\n",
    "Copyright 2009–2021 by Codility Limited. All Rights Reserved. Unauthorized copying, publication or disclosure prohibited."
   ]
  },
  {
   "cell_type": "code",
   "execution_count": 8,
   "metadata": {},
   "outputs": [],
   "source": [
    "def solution(A):\n",
    "    s = []\n",
    "    if A == \"\":\n",
    "        return 1\n",
    "    n = len(A)\n",
    "    for e in A:\n",
    "        if e in ['(']:\n",
    "            s.append(e)\n",
    "        else:\n",
    "            if (len(s) == 0):\n",
    "                return 0\n",
    "            \n",
    "            if e == ')' and s[-1] == '(':\n",
    "                s.pop()\n",
    "                continue\n",
    "                \n",
    "    if len(s) == 0:\n",
    "        return 1\n",
    "    else:\n",
    "        return 0"
   ]
  },
  {
   "cell_type": "code",
   "execution_count": 9,
   "metadata": {},
   "outputs": [
    {
     "name": "stdout",
     "output_type": "stream",
     "text": [
      "1\n"
     ]
    }
   ],
   "source": [
    "S = \"(()(())())\"\n",
    "print(solution(S))"
   ]
  },
  {
   "cell_type": "code",
   "execution_count": 11,
   "metadata": {},
   "outputs": [
    {
     "name": "stdout",
     "output_type": "stream",
     "text": [
      "0\n"
     ]
    }
   ],
   "source": [
    "S = \"())\"\n",
    "print(solution(S))"
   ]
  }
 ],
 "metadata": {
  "kernelspec": {
   "display_name": "Python 3",
   "language": "python",
   "name": "python3"
  },
  "language_info": {
   "codemirror_mode": {
    "name": "ipython",
    "version": 3
   },
   "file_extension": ".py",
   "mimetype": "text/x-python",
   "name": "python",
   "nbconvert_exporter": "python",
   "pygments_lexer": "ipython3",
   "version": "3.7.4"
  }
 },
 "nbformat": 4,
 "nbformat_minor": 4
}
