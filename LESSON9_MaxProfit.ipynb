{
 "cells": [
  {
   "cell_type": "markdown",
   "metadata": {},
   "source": [
    "An array A consisting of N integers is given. It contains daily prices of a stock share for a period of N consecutive days. If a single share was bought on day P and sold on day Q, where 0 ≤ P ≤ Q < N, then the profit of such transaction is equal to A[Q] − A[P], provided that A[Q] ≥ A[P]. Otherwise, the transaction brings loss of A[P] − A[Q].\n",
    "\n",
    "For example, consider the following array A consisting of six elements such that:\n",
    "\n",
    "  A[0] = 23171\n",
    "  A[1] = 21011\n",
    "  A[2] = 21123\n",
    "  A[3] = 21366\n",
    "  A[4] = 21013\n",
    "  A[5] = 21367\n",
    "If a share was bought on day 0 and sold on day 2, a loss of 2048 would occur because A[2] − A[0] = 21123 − 23171 = −2048. If a share was bought on day 4 and sold on day 5, a profit of 354 would occur because A[5] − A[4] = 21367 − 21013 = 354. Maximum possible profit was 356. It would occur if a share was bought on day 1 and sold on day 5.\n",
    "\n",
    "Write a function,\n",
    "\n",
    "class Solution { public int solution(int[] A); }\n",
    "\n",
    "that, given an array A consisting of N integers containing daily prices of a stock share for a period of N consecutive days, returns the maximum possible profit from one transaction during this period. The function should return 0 if it was impossible to gain any profit.\n",
    "\n",
    "For example, given array A consisting of six elements such that:\n",
    "\n",
    "  A[0] = 23171\n",
    "  A[1] = 21011\n",
    "  A[2] = 21123\n",
    "  A[3] = 21366\n",
    "  A[4] = 21013\n",
    "  A[5] = 21367\n",
    "the function should return 356, as explained above.\n",
    "\n",
    "Write an efficient algorithm for the following assumptions:\n",
    "\n",
    "N is an integer within the range [0..400,000];\n",
    "each element of array A is an integer within the range [0..200,000].\n",
    "Copyright 2009–2021 by Codility Limited. All Rights Reserved. Unauthorized copying, publication or disclosure prohibited."
   ]
  },
  {
   "cell_type": "markdown",
   "metadata": {},
   "source": [
    "SOL1:會time_error"
   ]
  },
  {
   "cell_type": "code",
   "execution_count": null,
   "metadata": {},
   "outputs": [],
   "source": [
    "def solution(A):\n",
    "    n = len(A) \n",
    "    result = 0\n",
    "    for p in range(n):\n",
    "        Subtract = 0  #Subtract \n",
    "        for q in range(p, n):\n",
    "            Subtract = A[q] - A[p]\n",
    "            result = max(result, Subtract)\n",
    "    return result"
   ]
  },
  {
   "cell_type": "markdown",
   "metadata": {},
   "source": [
    "SOL2:正確"
   ]
  },
  {
   "cell_type": "code",
   "execution_count": 1,
   "metadata": {},
   "outputs": [],
   "source": [
    "def solution(A):\n",
    "    minimum = float('inf')\n",
    "    maxprofit = 0\n",
    "    for a in A:\n",
    "        minimum = min(a, minimum)\n",
    "        maxprofit = max(a - minimum, maxprofit)\n",
    "    return maxprofit"
   ]
  },
  {
   "cell_type": "code",
   "execution_count": 2,
   "metadata": {},
   "outputs": [
    {
     "name": "stdout",
     "output_type": "stream",
     "text": [
      "356\n"
     ]
    }
   ],
   "source": [
    "A = [23171, 21011, 21123, 21366, 21013, 21367]\n",
    "print(solution(A))"
   ]
  }
 ],
 "metadata": {
  "kernelspec": {
   "display_name": "Python 3",
   "language": "python",
   "name": "python3"
  },
  "language_info": {
   "codemirror_mode": {
    "name": "ipython",
    "version": 3
   },
   "file_extension": ".py",
   "mimetype": "text/x-python",
   "name": "python",
   "nbconvert_exporter": "python",
   "pygments_lexer": "ipython3",
   "version": "3.7.4"
  }
 },
 "nbformat": 4,
 "nbformat_minor": 4
}
