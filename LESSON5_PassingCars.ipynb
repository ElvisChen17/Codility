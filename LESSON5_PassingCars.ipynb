{
 "cells": [
  {
   "cell_type": "markdown",
   "metadata": {},
   "source": [
    "A non-empty array A consisting of N integers is given. The consecutive elements of array A represent consecutive cars on a road.\n",
    "\n",
    "Array A contains only 0s and/or 1s:\n",
    "\n",
    "0 represents a car traveling east,\n",
    "1 represents a car traveling west.\n",
    "The goal is to count passing cars. We say that a pair of cars (P, Q), where 0 ≤ P < Q < N, is passing when P is traveling to the east and Q is traveling to the west.\n",
    "\n",
    "For example, consider array A such that:\n",
    "\n",
    "  A[0] = 0\n",
    "  A[1] = 1\n",
    "  A[2] = 0\n",
    "  A[3] = 1\n",
    "  A[4] = 1\n",
    "We have five pairs of passing cars: (0, 1), (0, 3), (0, 4), (2, 3), (2, 4).\n",
    "\n",
    "Write a function:\n",
    "\n",
    "class Solution { public int solution(int[] A); }\n",
    "\n",
    "that, given a non-empty array A of N integers, returns the number of pairs of passing cars.\n",
    "\n",
    "The function should return −1 if the number of pairs of passing cars exceeds 1,000,000,000.\n",
    "\n",
    "For example, given:\n",
    "\n",
    "  A[0] = 0\n",
    "  A[1] = 1\n",
    "  A[2] = 0\n",
    "  A[3] = 1\n",
    "  A[4] = 1\n",
    "the function should return 5, as explained above.\n",
    "\n",
    "Write an efficient algorithm for the following assumptions:\n",
    "\n",
    "N is an integer within the range [1..100,000];\n",
    "each element of array A is an integer that can have one of the following values: 0, 1.\n",
    "Copyright 2009–2021 by Codility Limited. All Rights Reserved. Unauthorized copying, publication or disclosure prohibited."
   ]
  },
  {
   "cell_type": "code",
   "execution_count": 3,
   "metadata": {},
   "outputs": [],
   "source": [
    "def solution(A):\n",
    "    set_0 = set()\n",
    "    num = 0\n",
    "    for index, value in enumerate(A):\n",
    "        if value == 0:set_0.add(index)\n",
    "        else: num = num + len(set_0)\n",
    "    if num > 1000000000 :return -1\n",
    "    else: return num"
   ]
  },
  {
   "cell_type": "code",
   "execution_count": 4,
   "metadata": {},
   "outputs": [
    {
     "name": "stdout",
     "output_type": "stream",
     "text": [
      "5\n"
     ]
    }
   ],
   "source": [
    "A = [0,1,0,1,1]\n",
    "print(solution(A))"
   ]
  }
 ],
 "metadata": {
  "kernelspec": {
   "display_name": "Python 3",
   "language": "python",
   "name": "python3"
  },
  "language_info": {
   "codemirror_mode": {
    "name": "ipython",
    "version": 3
   },
   "file_extension": ".py",
   "mimetype": "text/x-python",
   "name": "python",
   "nbconvert_exporter": "python",
   "pygments_lexer": "ipython3",
   "version": "3.7.1"
  }
 },
 "nbformat": 4,
 "nbformat_minor": 4
}
