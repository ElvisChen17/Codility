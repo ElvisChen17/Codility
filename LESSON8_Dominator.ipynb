{
 "cells": [
  {
   "cell_type": "markdown",
   "metadata": {},
   "source": [
    "An array A consisting of N integers is given. The dominator of array A is the value that occurs in more than half of the elements of A.\n",
    "\n",
    "For example, consider array A such that\n",
    "\n",
    " A[0] = 3    A[1] = 4    A[2] =  3\n",
    " A[3] = 2    A[4] = 3    A[5] = -1\n",
    " A[6] = 3    A[7] = 3\n",
    "The dominator of A is 3 because it occurs in 5 out of 8 elements of A (namely in those with indices 0, 2, 4, 6 and 7) and 5 is more than a half of 8.\n",
    "\n",
    "Write a function\n",
    "\n",
    "class Solution { public int solution(int[] A); }\n",
    "\n",
    "that, given an array A consisting of N integers, returns index of any element of array A in which the dominator of A occurs. The function should return −1 if array A does not have a dominator.\n",
    "\n",
    "For example, given array A such that\n",
    "\n",
    " A[0] = 3    A[1] = 4    A[2] =  3\n",
    " A[3] = 2    A[4] = 3    A[5] = -1\n",
    " A[6] = 3    A[7] = 3\n",
    "the function may return 0, 2, 4, 6 or 7, as explained above.\n",
    "\n",
    "Write an efficient algorithm for the following assumptions:\n",
    "\n",
    "N is an integer within the range [0..100,000];\n",
    "each element of array A is an integer within the range [−2,147,483,648..2,147,483,647].\n",
    "Copyright 2009–2021 by Codility Limited. All Rights Reserved. Unauthorized copying, publication or disclosure prohibited."
   ]
  },
  {
   "cell_type": "code",
   "execution_count": 1,
   "metadata": {},
   "outputs": [],
   "source": [
    "def solution(A):\n",
    "    A_len = len(A)\n",
    "    candidate = -1\n",
    "    candidate_count = 0\n",
    "    candidate_index = -1\n",
    "    # Find out a leader candidate\n",
    "    for index in range(A_len):\n",
    "        if candidate_count == 0:\n",
    "            candidate = A[index]\n",
    "            candidate_index = index\n",
    "            candidate_count += 1\n",
    "        else:\n",
    "            if A[index] == candidate:\n",
    "                candidate_count += 1\n",
    "            else:\n",
    "                candidate_count -= 1\n",
    "    # Make sure the candidate is the leader\n",
    "    leader_count = len([number for number in A if number == candidate])\n",
    "    if leader_count <= A_len//2:\n",
    "        # The candidate is not the leader\n",
    "        return -1\n",
    "    else:\n",
    "        leader = candidate\n",
    "        return [i for i in range(A_len) if A[i] == leader][-1]"
   ]
  },
  {
   "cell_type": "code",
   "execution_count": 2,
   "metadata": {},
   "outputs": [
    {
     "name": "stdout",
     "output_type": "stream",
     "text": [
      "7\n"
     ]
    }
   ],
   "source": [
    "A = [3,4,3,2,3,-1,3,3]\n",
    "print(solution(A))"
   ]
  }
 ],
 "metadata": {
  "kernelspec": {
   "display_name": "Python 3",
   "language": "python",
   "name": "python3"
  },
  "language_info": {
   "codemirror_mode": {
    "name": "ipython",
    "version": 3
   },
   "file_extension": ".py",
   "mimetype": "text/x-python",
   "name": "python",
   "nbconvert_exporter": "python",
   "pygments_lexer": "ipython3",
   "version": "3.7.1"
  }
 },
 "nbformat": 4,
 "nbformat_minor": 4
}
